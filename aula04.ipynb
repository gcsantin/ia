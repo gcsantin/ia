{
  "nbformat": 4,
  "nbformat_minor": 0,
  "metadata": {
    "colab": {
      "provenance": [],
      "authorship_tag": "ABX9TyOoMeNLDjAxlL1DYc6BxsZS",
      "include_colab_link": true
    },
    "kernelspec": {
      "name": "python3",
      "display_name": "Python 3"
    },
    "language_info": {
      "name": "python"
    }
  },
  "cells": [
    {
      "cell_type": "markdown",
      "metadata": {
        "id": "view-in-github",
        "colab_type": "text"
      },
      "source": [
        "<a href=\"https://colab.research.google.com/github/gcsantin/ia/blob/main/aula04.ipynb\" target=\"_parent\"><img src=\"https://colab.research.google.com/assets/colab-badge.svg\" alt=\"Open In Colab\"/></a>"
      ]
    },
    {
      "cell_type": "code",
      "execution_count": 13,
      "metadata": {
        "id": "krv2B2qOFIbE"
      },
      "outputs": [],
      "source": [
        "!pip install -q -U google-generativeai"
      ]
    },
    {
      "cell_type": "code",
      "source": [
        "# Import the Python SDK\n",
        "import google.generativeai as genai\n",
        "# Used to securely store your API key\n",
        "from google.colab import userdata\n",
        "\n",
        "GOOGLE_API_KEY = userdata.get (\"SECRET_KEY\")\n",
        "genai.configure(api_key=GOOGLE_API_KEY)"
      ],
      "metadata": {
        "id": "b5NPrLGvFN30"
      },
      "execution_count": 14,
      "outputs": []
    },
    {
      "cell_type": "markdown",
      "source": [
        "Listar os modelos disponíveis"
      ],
      "metadata": {
        "id": "cqS5225DFWb2"
      }
    },
    {
      "cell_type": "code",
      "source": [
        "for m in genai.list_models():\n",
        "  if 'generateContent' in m.supported_generation_methods:\n",
        "    print(m.name)"
      ],
      "metadata": {
        "colab": {
          "base_uri": "https://localhost:8080/",
          "height": 139
        },
        "id": "eaKNzSbkFS-g",
        "outputId": "7fce29d1-79e6-4356-9f52-23cf7123e597"
      },
      "execution_count": 15,
      "outputs": [
        {
          "output_type": "stream",
          "name": "stdout",
          "text": [
            "models/gemini-1.0-pro\n",
            "models/gemini-1.0-pro-001\n",
            "models/gemini-1.0-pro-latest\n",
            "models/gemini-1.0-pro-vision-latest\n",
            "models/gemini-1.5-pro-latest\n",
            "models/gemini-pro\n",
            "models/gemini-pro-vision\n"
          ]
        }
      ]
    },
    {
      "cell_type": "code",
      "source": [
        "gen_config = {\n",
        "    \"candidate_count\": 1,\n",
        "    \"temperature\": 0.9,\n",
        "    \"top_p\": 1,\n",
        "    \"top_k\": 0,\n",
        "}"
      ],
      "metadata": {
        "id": "ocKAeuxlGQDa"
      },
      "execution_count": 16,
      "outputs": []
    },
    {
      "cell_type": "code",
      "source": [
        "safe_settings = {\n",
        "    \"HARASSMENT\": \"BLOCK_NONE\",\n",
        "    \"HATE\": \"BLOCK_NONE\",\n",
        "    \"SEXUAL\": \"BLOCK_NONE\",\n",
        "    \"DANGEROUS\": \"BLOCK_MEDIUM_AND_ABOVE\"\n",
        "}"
      ],
      "metadata": {
        "id": "ektlQEUBGqHZ"
      },
      "execution_count": 17,
      "outputs": []
    },
    {
      "cell_type": "code",
      "source": [
        "model = genai.GenerativeModel(model_name=\"gemini-1.0-pro\",\n",
        "                              generation_config=gen_config,\n",
        "                              safety_settings=safe_settings)"
      ],
      "metadata": {
        "id": "BhgnxTgXH6sF"
      },
      "execution_count": 18,
      "outputs": []
    },
    {
      "cell_type": "code",
      "source": [
        "response = model.generate_content(\"Vamos aprender como gerar orçamentos de produtos e serviços.\")\n",
        "print(response.text)"
      ],
      "metadata": {
        "colab": {
          "base_uri": "https://localhost:8080/",
          "height": 801
        },
        "id": "KBfa3k2UIPVb",
        "outputId": "d889c216-2d08-466e-8263-7f043fb1629f"
      },
      "execution_count": 19,
      "outputs": [
        {
          "output_type": "stream",
          "name": "stdout",
          "text": [
            "**Como Gerar Orçamentos de Produtos e Serviços**\n",
            "\n",
            "**Passo 1: Entender as Necessidades do Cliente**\n",
            "\n",
            "* Converse com o cliente para identificar suas necessidades específicas.\n",
            "* Pergunte sobre o escopo do projeto, cronograma e orçamento.\n",
            "* Colete informações sobre os produtos ou serviços que estão sendo solicitados.\n",
            "\n",
            "**Passo 2: Pesquisar e Calcular Custos**\n",
            "\n",
            "* Determine os custos dos materiais, mão de obra e quaisquer outras despesas associadas.\n",
            "* Use dados históricos ou cotações de fornecedores para estimar os custos com precisão.\n",
            "* Considere margens de lucro razoáveis para cobrir seus custos e obter lucro.\n",
            "\n",
            "**Passo 3: Criar o Orçamento**\n",
            "\n",
            "* Organize as informações de custos em um formato claro e conciso.\n",
            "* Inclua uma descrição detalhada dos produtos ou serviços, quantidades e preços unitários.\n",
            "* Resuma os custos totais e aplique quaisquer impostos ou descontos aplicáveis.\n",
            "\n",
            "**Passo 4: Formatar o Orçamento**\n",
            "\n",
            "* Use um modelo de orçamento profissional ou crie seu próprio.\n",
            "* Certifique-se de que o orçamento seja fácil de ler e interpretar.\n",
            "* Inclua um título preciso, nome do cliente, data e quaisquer termos ou condições relevantes.\n",
            "\n",
            "**Passo 5: Revisar e Ajustar**\n",
            "\n",
            "* Revise cuidadosamente o orçamento quanto a erros de cálculo ou imprecisões.\n",
            "* Se necessário, ajuste os preços ou escopo do projeto para atender às necessidades do cliente ou às restrições de orçamento.\n",
            "\n",
            "**Passo 6: Apresentar o Orçamento**\n",
            "\n",
            "* Apresente o orçamento ao cliente de forma profissional e oportuna.\n",
            "* Explique claramente os custos e termos do orçamento.\n",
            "* Esteja preparado para responder a quaisquer perguntas ou preocupações do cliente.\n",
            "\n",
            "**Dicas Adicionais:**\n",
            "\n",
            "* Seja específico e detalhado em seu orçamento.\n",
            "* Forneça garantias ou termos de pagamento para construir confiança.\n",
            "* Negocie de boa fé e seja transparente com o cliente.\n",
            "* Monitore seus custos cuidadosamente e informe o cliente sobre quaisquer alterações imprevistas.\n",
            "* Mantenha um registro de todos os orçamentos e documentos relacionados.\n"
          ]
        }
      ]
    },
    {
      "cell_type": "code",
      "source": [
        "chat = model.start_chat(history=[])"
      ],
      "metadata": {
        "id": "IAtNN25HI2O8"
      },
      "execution_count": 20,
      "outputs": []
    },
    {
      "cell_type": "code",
      "source": [
        "prompt = input (\"Esperando prompt...\")\n",
        "\n",
        "while prompt != \"fim\":\n",
        "  response = chat.send_message(prompt)\n",
        "  print(\"Resposta: \", response.text, \"\\n\")\n",
        "  prompt = input (\"Esperando prompt...\")"
      ],
      "metadata": {
        "colab": {
          "base_uri": "https://localhost:8080/",
          "height": 801
        },
        "id": "zAYypPM4JCdM",
        "outputId": "3e1922f7-7525-4ca8-9d2a-f35de5fd2b21"
      },
      "execution_count": 24,
      "outputs": [
        {
          "name": "stdout",
          "output_type": "stream",
          "text": [
            "Esperando prompt...teste\n",
            "Resposta:  **Teste de Raciocínio Lógico**\n",
            "\n",
            "**Instruções:** Leia atentamente cada questão e escolha a opção que melhor completa a frase ou responde à pergunta.\n",
            "\n",
            "**1. Qual número completa a sequência: 2, 4, 8, 16, _____?**\n",
            "(a) 32\n",
            "(b) 64\n",
            "(c) 128\n",
            "(d) 256\n",
            "\n",
            "**2. Qual palavra não pertence ao grupo?**\n",
            "(a) Gato\n",
            "(b) Cão\n",
            "(c) Cavalo\n",
            "(d) Carro\n",
            "\n",
            "**3. Se hoje é terça-feira, qual dia será daqui a 3 dias?**\n",
            "(a) Quarta-feira\n",
            "(b) Quinta-feira\n",
            "(c) Sexta-feira\n",
            "(d) Sábado\n",
            "\n",
            "**4. Qual é o valor de x na equação: 3x + 5 = 14?**\n",
            "(a) 2\n",
            "(b) 3\n",
            "(c) 4\n",
            "(d) 5\n",
            "\n",
            "**5. Qual forma geométrica tem 3 lados iguais e 3 ângulos iguais?**\n",
            "(a) Triângulo equilátero\n",
            "(b) Quadrado\n",
            "(c) Retângulo\n",
            "(d) Círculo\n",
            "\n",
            "**Chave de Respostas:**\n",
            "\n",
            "1. (b)\n",
            "2. (d)\n",
            "3. (b)\n",
            "4. (b)\n",
            "5. (a) \n",
            "\n",
            "Esperando prompt...fim\n"
          ]
        }
      ]
    },
    {
      "cell_type": "code",
      "source": [
        "chat.history"
      ],
      "metadata": {
        "colab": {
          "base_uri": "https://localhost:8080/"
        },
        "id": "YnCX9PlCJNp7",
        "outputId": "b58e411c-059e-49fb-cc60-e64e72af9ac3"
      },
      "execution_count": 26,
      "outputs": [
        {
          "output_type": "execute_result",
          "data": {
            "text/plain": [
              "[parts {\n",
              "   text: \"teste\"\n",
              " }\n",
              " role: \"user\",\n",
              " parts {\n",
              "   text: \"**Teste de Racioc\\303\\255nio L\\303\\263gico**\\n\\n**Instru\\303\\247\\303\\265es:** Leia atentamente cada quest\\303\\243o e escolha a op\\303\\247\\303\\243o que melhor completa a frase ou responde \\303\\240 pergunta.\\n\\n**1. Qual n\\303\\272mero completa a sequ\\303\\252ncia: 2, 4, 8, 16, _____?**\\n(a) 32\\n(b) 64\\n(c) 128\\n(d) 256\\n\\n**2. Qual palavra n\\303\\243o pertence ao grupo?**\\n(a) Gato\\n(b) C\\303\\243o\\n(c) Cavalo\\n(d) Carro\\n\\n**3. Se hoje \\303\\251 ter\\303\\247a-feira, qual dia ser\\303\\241 daqui a 3 dias?**\\n(a) Quarta-feira\\n(b) Quinta-feira\\n(c) Sexta-feira\\n(d) S\\303\\241bado\\n\\n**4. Qual \\303\\251 o valor de x na equa\\303\\247\\303\\243o: 3x + 5 = 14?**\\n(a) 2\\n(b) 3\\n(c) 4\\n(d) 5\\n\\n**5. Qual forma geom\\303\\251trica tem 3 lados iguais e 3 \\303\\242ngulos iguais?**\\n(a) Tri\\303\\242ngulo equil\\303\\241tero\\n(b) Quadrado\\n(c) Ret\\303\\242ngulo\\n(d) C\\303\\255rculo\\n\\n**Chave de Respostas:**\\n\\n1. (b)\\n2. (d)\\n3. (b)\\n4. (b)\\n5. (a)\"\n",
              " }\n",
              " role: \"model\"]"
            ]
          },
          "metadata": {},
          "execution_count": 26
        }
      ]
    }
  ]
}